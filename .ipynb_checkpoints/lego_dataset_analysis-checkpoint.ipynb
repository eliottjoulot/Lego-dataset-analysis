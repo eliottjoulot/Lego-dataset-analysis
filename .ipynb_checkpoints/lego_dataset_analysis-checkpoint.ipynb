{
 "cells": [
  {
   "cell_type": "markdown",
   "metadata": {},
   "source": [
    "# Another LEGO brick in the wall"
   ]
  },
  {
   "cell_type": "code",
   "execution_count": 1,
   "metadata": {},
   "outputs": [],
   "source": [
    "import os, glob\n",
    "import numpy as np\n",
    "import pandas as pd\n",
    "import datetime\n",
    "import matplotlib.pyplot as plt\n",
    "pd.options.mode.chained_assignment = None  # default='warn', Mutes warnings when copying a slice from a DataFrame.\n",
    "\n",
    "# Allows developper to press tab for autocompletion\n",
    "%config IPComplete.greedy=True;\n",
    "fig_size = (15,5)"
   ]
  },
  {
   "cell_type": "markdown",
   "metadata": {},
   "source": [
    "___\n",
    "\n",
    ">LEGO is a popular brand of toy building bricks. They are often sold in sets in order to build a specific object. Each set contains a number of parts in different shapes, sizes and colors. This database contains information on which parts are included in different LEGO sets. It was originally compiled to help people who owned some LEGO sets already figure out what other sets they could build with the pieces they had.\n",
    "\n",
    ">This dataset contains the official LEGO colors, parts, inventories (i.e., sets of LEGO parts which assembled create an object in the LEGO world) and sets (i.e., sets of LEGO inventories which assembled create a LEGO ecosystem). The schema of the dataset can be shown in the following UML diagram: \n",
    "\n",
    ">![lego-schema](lego-schema.png)\n",
    "\n",
    ">In this task you have to apply the following Data Wrangling pipeline:\n",
    ">1. Load your data into `Pandas`\n",
    ">* Explore it and clean its dirty parts\n",
    ">* Use it to answer a set of queries"
   ]
  },
  {
   "cell_type": "markdown",
   "metadata": {},
   "source": [
    "### 1. Loading phase\n",
    ">_Load all the csv files into different `DataFrames`. Use meaningful names for your `DataFrames` (e.g., the respective filenames)."
   ]
  },
  {
   "cell_type": "code",
   "execution_count": 3,
   "metadata": {},
   "outputs": [],
   "source": [
    "LEGO_DATA_FOLDER = 'lego'"
   ]
  },
  {
   "cell_type": "markdown",
   "metadata": {},
   "source": [
    "__Step 1:__ Getting a list of all the csv files in the directory"
   ]
  },
  {
   "cell_type": "code",
   "execution_count": 4,
   "metadata": {},
   "outputs": [
    {
     "name": "stdout",
     "output_type": "stream",
     "text": [
      "allFiles =  ['inventory_sets.csv.zip', 'inventory_parts.csv.zip', 'part_categories.csv.zip', 'sets.csv.zip', 'colors.csv.zip', 'themes.csv.zip', 'inventories.csv.zip', 'parts.csv.zip']\n"
     ]
    }
   ],
   "source": [
    "startingDir = os.getcwd()\n",
    "os.chdir(LEGO_DATA_FOLDER)\n",
    "allFiles = glob.glob( '*.csv.zip' ) # glob finds all the pathnames matching a specified pattern\n",
    "print(\"allFiles = \",allFiles)"
   ]
  },
  {
   "cell_type": "markdown",
   "metadata": {},
   "source": [
    "__Step 2:__ Creating a dictionary ``'data'`` with imported dataframes and file names as keys "
   ]
  },
  {
   "cell_type": "code",
   "execution_count": 5,
   "metadata": {},
   "outputs": [
    {
     "name": "stdout",
     "output_type": "stream",
     "text": [
      "INVENTORY_SETS : \n",
      "    inventory_id   set_id  quantity\n",
      "0            35  75911-1         1\n",
      "1            35  75912-1         1\n",
      "2            39  75048-1         1 \n",
      "\n",
      "INVENTORY_PARTS : \n",
      "    inventory_id   part_id  color_id  quantity is_spare\n",
      "0             1  48379c01        72       1.0        f\n",
      "1             1     48395         7       1.0        f\n",
      "2             1  mcsport6        25       1.0        f \n",
      "\n",
      "PART_CATEGORIES : \n",
      "    id            name\n",
      "0   1      Baseplates\n",
      "1   2  Bricks Printed\n",
      "2   3   Bricks Sloped \n",
      "\n",
      "SETS : \n",
      "        id                        name  year  theme_id  num_parts\n",
      "0    00-1             Weetabix Castle   70s       414        471\n",
      "1  0011-2           Town Mini-Figures  1978        84         12\n",
      "2  0011-3  Castle 2 for 1 Bonus Offer  1987       199          2 \n",
      "\n",
      "COLORS : \n",
      "    id     name     rgb is_trans\n",
      "0  -1  Unknown  0033B2        f\n",
      "1   0    Black  05131D        f\n",
      "2   1     Blue  0055BF        f \n",
      "\n",
      "THEMES : \n",
      "    id            name  parent_id\n",
      "0   1         Technic        NaN\n",
      "1   2  Arctic Technic        1.0\n",
      "2   3     Competition        1.0 \n",
      "\n",
      "INVENTORIES : \n",
      "    id  version\n",
      "0   1        1\n",
      "1   3        1\n",
      "2   4        1 \n",
      "\n",
      "PARTS : \n",
      "        id                                               name  part_cat_id\n",
      "0  0687b1                        Set 0687 Activity Booklet 1           17\n",
      "1    0901  Baseplate 16 x 30 with Set 080 Yellow House Print            1\n",
      "2    0902  Baseplate 16 x 24 with Set 080 Small White Hou...            1 \n",
      "\n"
     ]
    }
   ],
   "source": [
    "allFilesNames = list(map(lambda f: f.replace(\".csv.zip\", \"\"), allFiles))\n",
    "data = dict(zip(allFilesNames, list(map(lambda f: pd.read_csv(f), allFiles))))\n",
    "\n",
    "for file, dataframe in data.items(): \n",
    "    print(file.upper(), \": \\n\", dataframe.head(3), \"\\n\")\n",
    "\n",
    "os.chdir(startingDir)"
   ]
  },
  {
   "cell_type": "code",
   "execution_count": 6,
   "metadata": {},
   "outputs": [],
   "source": [
    "# Copying the original dataframes into variables to separate the processing and better understanding\n",
    "inventory_sets = data['inventory_sets'].copy()\n",
    "inventory_parts = data['inventory_parts'].copy()\n",
    "part_categories = data['part_categories'].copy()\n",
    "sets = data['sets'].copy()\n",
    "colors = data['colors'].copy()\n",
    "themes = data['themes'].copy()\n",
    "inventories = data['inventories'].copy()\n",
    "parts = data['parts'].copy()"
   ]
  },
  {
   "cell_type": "markdown",
   "metadata": {},
   "source": [
    "### 2. Cleaning phase\n",
    ">Explore the following columns from your dataset:\n",
    ">1. sets: year\n",
    ">* inventory_parts: quantity\n",
    "\n",
    ">What is the time range of the sets? \n",
    "What is the average quantity of the inventory parts? \n",
    "Do you see any inconsistencies? \n",
    "Provide code that detects and cleans such inconsistencies and validates the coherence of your dataset. "
   ]
  },
  {
   "cell_type": "markdown",
   "metadata": {},
   "source": [
    "__step 1: cleaning ``sets: year``__\n",
    "\n",
    "> year = Year the set was published"
   ]
  },
  {
   "cell_type": "markdown",
   "metadata": {},
   "source": [
    "Let's start by analyzing the data we have.\n",
    "\n",
    "Do do that, we check if each entry is valid using a function that tries to wright it in the datetime format."
   ]
  },
  {
   "cell_type": "code",
   "execution_count": 7,
   "metadata": {},
   "outputs": [],
   "source": [
    "# Validate function to check if a year is in the correct datetime format\n",
    "# return: True if the year is valid, False otherwise\n",
    "def validate_year(year_text):\n",
    "    try:\n",
    "        datetime.datetime.strptime(year_text, '%Y')\n",
    "        return True\n",
    "    except: \n",
    "        return False"
   ]
  },
  {
   "cell_type": "code",
   "execution_count": 8,
   "metadata": {
    "scrolled": false
   },
   "outputs": [
    {
     "name": "stdout",
     "output_type": "stream",
     "text": [
      "Total number of entries:    11673\n",
      "Number of entries with an invalid year:    3085\n"
     ]
    }
   ],
   "source": [
    "n_total = len(sets['year'])\n",
    "print(\"Total number of entries:   \", n_total) \n",
    "\n",
    "n_not_valid = np.count_nonzero(sets['year'].apply(lambda x : validate_year(x)) == False)\n",
    "print(\"Number of entries with an invalid year:   \", n_not_valid) "
   ]
  },
  {
   "cell_type": "code",
   "execution_count": 9,
   "metadata": {},
   "outputs": [
    {
     "data": {
      "image/png": "[encoded data removed]",
      "text/plain": [
       "<Figure size 432x288 with 1 Axes>"
      ]
     },
     "metadata": {},
     "output_type": "display_data"
    }
   ],
   "source": [
    "labels = 'Not valid data', 'Valid data'; colors_graph = ['lightcoral', 'skyblue']\n",
    "plt.pie([n_not_valid, n_total-n_not_valid], autopct='%1.1f%%', explode=(0.1, 0), labels=labels, colors=colors_graph)\n",
    "plt.axis('equal'); plt.show()"
   ]
  },
  {
   "cell_type": "markdown",
   "metadata": {},
   "source": [
    "A first look at the entries in ``sets['year']`` shows us that __we have a lot of incorrect year formats: 26.4%.__ We understand from this result that we will need to correct as much as we can to avoid losing too many informations.\n",
    "\n",
    "Let's take a look a the different entries we have in our data:"
   ]
  },
  {
   "cell_type": "code",
   "execution_count": 10,
   "metadata": {
    "scrolled": false
   },
   "outputs": [
    {
     "name": "stdout",
     "output_type": "stream",
     "text": [
      "Number of unique entries:    174\n",
      "\n",
      " ['70s', '1978', '1987', '1979', '19788', '1976', '1965', '1985', '1968', '1999', '1967', '1969', '2001', '20011', '1966', '2003', '2002', '20022', '-2003', '20033', '-2002', '20044', '2004', '2006', '20055', '2005', '-2004', '-2006', '-2010', '-2005', '20066', '2007', '20077', '2008', '20088', '-2009', '2009', '20099', '2010', '20100', '-2011', '2011', '20111', '2012', '20122', '-2013', '2013', '20133', '20144', '-20144', '2015', '2014', '-2014', '20155', '-2015', '2016', '20166', '-2016', '2017', '1977', '1983', '1986', '1984', '1973', '-2012', '-20155', '1981', '-2000', '80s', '1982', '1988', '20177', '-2017', '-1999', '19999', '-1986', '1997', '1998', '1971', '-1966', '-1977', '-1981', '-1985', '20000', '2000', '-20000', '1955', '1956', '1957', '-1982', '-1969', '19822', '19555', '1958', '-2001', '1974', '1972', '19988', '-1998', '19877', '19855', '19777', '1975', '-1987', '-1979', '1992', '1991', '-1991', '1989', '1990', '1993', '-1992', '-1989', '1994', '19944', '-1994', '1996', '19899', '19900', '19922', '1995', '-1995', '19966', '-1997', '19722', '19955', '19933', '1959', '1962', '-2008', '-20122', '1961', '19977', '1960', '1963', '1964', '19666', '-1975', '-20133', '-19999', '-20033', '-1973', '-1980', '-1984', '-1971', '-2007', '-20077', '-20166', '-20011', '-20022', '19799', '19911', '-20044', '19622', '-1962', '-19977', '19844', '-20099', '19866', '-1993', '-1996', '-1983', '-1988', '-20066', '19888', '1950', '1953', '1954', '19811', '19800', '19833', '-20100', '-20111', '19699']\n"
     ]
    }
   ],
   "source": [
    "print(\"Number of unique entries:   \",len(sets['year'].unique()))\n",
    "print(\"\\n\",sets['year'].unique().tolist())"
   ]
  },
  {
   "cell_type": "markdown",
   "metadata": {},
   "source": [
    "Let's also take a look at the repartition of the correct data. That way, we will be able to check if a corrected year seems to fit our existing data or if we introduced outliers due to incorrect correction:"
   ]
  },
  {
   "cell_type": "code",
   "execution_count": 11,
   "metadata": {},
   "outputs": [
    {
     "data": {
      "text/plain": [
       "<matplotlib.axes._subplots.AxesSubplot at 0x1099b7860>"
      ]
     },
     "execution_count": 11,
     "metadata": {},
     "output_type": "execute_result"
    },
    {
     "data": {
      "image/png": "[encoded data removed]",
      "text/plain": [
       "<Figure size 432x288 with 1 Axes>"
      ]
     },
     "metadata": {},
     "output_type": "display_data"
    }
   ],
   "source": [
    "sets[sets['year'].apply(lambda x : validate_year(x))]['year'].apply(lambda x : float(x)).hist(color = \"skyblue\")"
   ]
  },
  {
   "cell_type": "markdown",
   "metadata": {},
   "source": [
    "A first quick look in the list of years we have in our data shows that quite __a lot of them are negative numbers__, and thus incorect year formats. (Legos are old, but not that much!)\n",
    "\n",
    "We make the following hypothesis: __These data most probably correspond to typos, and a negative sign came up in front of the real value.__\n",
    "\n",
    "We believe our assumption to be justified, but there is always a chance that we may be mistaken and that our analysis may be incorrect. So before making a change, let's check how many values are affected by this same error:"
   ]
  },
  {
   "cell_type": "code",
   "execution_count": 12,
   "metadata": {},
   "outputs": [
    {
     "name": "stdout",
     "output_type": "stream",
     "text": [
      "Number of entries with a negative year:    1261\n"
     ]
    }
   ],
   "source": [
    "n_negative = len(sets.loc[sets['year'].str.contains(\"-\")])             \n",
    "print(\"Number of entries with a negative year:   \", n_negative) "
   ]
  },
  {
   "cell_type": "code",
   "execution_count": 13,
   "metadata": {
    "scrolled": true
   },
   "outputs": [],
   "source": [
    "# replacing \"negative\"values by deleting all \"-\"\"\n",
    "sets['year'] = sets['year'].apply(lambda x: x.replace(\"-\", \"\"))"
   ]
  },
  {
   "cell_type": "markdown",
   "metadata": {},
   "source": [
    "Now let's check our corrected data:"
   ]
  },
  {
   "cell_type": "code",
   "execution_count": 14,
   "metadata": {
    "scrolled": false
   },
   "outputs": [
    {
     "name": "stdout",
     "output_type": "stream",
     "text": [
      "Number of unique entries:    113\n",
      "\n",
      "Number of entries with an invalid year:    1906\n"
     ]
    },
    {
     "data": {
      "image/png": "[encoded data removed]",
      "text/plain": [
       "<Figure size 432x288 with 1 Axes>"
      ]
     },
     "metadata": {},
     "output_type": "display_data"
    },
    {
     "data": {
      "text/plain": [
       "<matplotlib.axes._subplots.AxesSubplot at 0x10acf10b8>"
      ]
     },
     "execution_count": 14,
     "metadata": {},
     "output_type": "execute_result"
    },
    {
     "data": {
      "image/png": "[encoded data removed]",
      "text/plain": [
       "<Figure size 432x288 with 1 Axes>"
      ]
     },
     "metadata": {},
     "output_type": "display_data"
    }
   ],
   "source": [
    "print(\"Number of unique entries:   \",len(sets['year'].unique()))\n",
    "n_not_valid = np.count_nonzero(sets['year'].apply(lambda x : validate_year(x)) == False)\n",
    "print(\"\\nNumber of entries with an invalid year:   \", n_not_valid)\n",
    "plt.pie([n_not_valid, n_total-n_not_valid], autopct='%1.1f%%', explode=(0.1, 0), labels=labels, colors=colors_graph)\n",
    "plt.axis('equal'); plt.show()\n",
    "\n",
    "sets[sets['year'].apply(lambda x : validate_year(x))]['year'].apply(lambda x : float(x)).hist(color = \"skyblue\")"
   ]
  },
  {
   "cell_type": "markdown",
   "metadata": {},
   "source": [
    "Only by replacing negative values by positive ones, we fixed 1179 incorrect years to a valid one! Indeed, the histogram shows that we've not added any outlier to our data.\n",
    "\n",
    "Let's now ckeck all remaining incorrect years we hhave in our data:"
   ]
  },
  {
   "cell_type": "code",
   "execution_count": 15,
   "metadata": {},
   "outputs": [
    {
     "name": "stdout",
     "output_type": "stream",
     "text": [
      "['70s' '19788' '20011' '20022' '20033' '20044' '20055' '20066' '20077'\n",
      " '20088' '20099' '20100' '20111' '20122' '20133' '20144' '20155' '20166'\n",
      " '80s' '20177' '19999' '20000' '19822' '19555' '19988' '19877' '19855'\n",
      " '19777' '19944' '19899' '19900' '19922' '19966' '19722' '19955' '19933'\n",
      " '19977' '19666' '19799' '19911' '19622' '19844' '19866' '19888' '19811'\n",
      " '19800' '19833' '19699']\n"
     ]
    }
   ],
   "source": [
    "print(sets['year'][sets['year'].apply(lambda x : validate_year(x)) == False].unique())"
   ]
  },
  {
   "cell_type": "markdown",
   "metadata": {},
   "source": [
    "Once again, we can see at a glance that a pattern seems to emerge in the remaining incorrect years: __Many years have 5 digits, and the last digit is always double!__\n",
    "\n",
    "So let's make a new hypothesis: __Once again, these dates correspond to typos, and the last digit has been typed a second time after the correct value for the year.__*"
   ]
  },
  {
   "cell_type": "code",
   "execution_count": 16,
   "metadata": {},
   "outputs": [],
   "source": [
    "#deleting last number if years consist of 5 digits\n",
    "sets['year'] = sets['year'].apply(lambda x: x[:-1] if len(x)>4 else x)"
   ]
  },
  {
   "cell_type": "markdown",
   "metadata": {},
   "source": [
    "And now we can check our results once again"
   ]
  },
  {
   "cell_type": "code",
   "execution_count": 17,
   "metadata": {
    "scrolled": true
   },
   "outputs": [
    {
     "name": "stdout",
     "output_type": "stream",
     "text": [
      "Number of unique entries:    67\n",
      "\n",
      "Number of entries with an invalid year:    114\n"
     ]
    },
    {
     "data": {
      "image/png": "[encoded data removed]",
      "text/plain": [
       "<Figure size 432x288 with 1 Axes>"
      ]
     },
     "metadata": {},
     "output_type": "display_data"
    },
    {
     "data": {
      "text/plain": [
       "<matplotlib.axes._subplots.AxesSubplot at 0x10ad8dba8>"
      ]
     },
     "execution_count": 17,
     "metadata": {},
     "output_type": "execute_result"
    },
    {
     "data": {
      "image/png": "[encoded data removed]",
      "text/plain": [
       "<Figure size 432x288 with 1 Axes>"
      ]
     },
     "metadata": {},
     "output_type": "display_data"
    }
   ],
   "source": [
    "print(\"Number of unique entries:   \",len(sets['year'].unique()))\n",
    "n_not_valid = np.count_nonzero(sets['year'].apply(lambda x : validate_year(x)) == False)\n",
    "print(\"\\nNumber of entries with an invalid year:   \", n_not_valid)\n",
    "plt.pie([n_not_valid, n_total-n_not_valid], autopct='%1.1f%%', explode=(0.1, 0), labels=labels, colors=colors_graph)\n",
    "plt.axis('equal'); plt.show()\n",
    "sets[sets['year'].apply(lambda x : validate_year(x))]['year'].apply(lambda x : float(x)).hist(color = \"skyblue\")"
   ]
  },
  {
   "cell_type": "markdown",
   "metadata": {},
   "source": [
    "This second correction we applied was very effective! We managed to correct 1792 years without adding any outlier. Only 114 invalid years remain."
   ]
  },
  {
   "cell_type": "markdown",
   "metadata": {},
   "source": [
    "Let's ckeck again all remaining incorrect years we hhave in our data:"
   ]
  },
  {
   "cell_type": "code",
   "execution_count": 18,
   "metadata": {},
   "outputs": [
    {
     "name": "stdout",
     "output_type": "stream",
     "text": [
      "['70s' '80s']\n"
     ]
    }
   ],
   "source": [
    "print(sets['year'][sets['year'].apply(lambda x : validate_year(x)) == False].unique())"
   ]
  },
  {
   "cell_type": "markdown",
   "metadata": {},
   "source": [
    "This time, __we only have 2 incorrect unique entries, but it doesn't seem we could apply any correction to them.__ Indeed, this errors come from users who entered an approximate year instead of a precise value, as 70s for example coult potentially be any year between 1970 and 1979.\n",
    "\n",
    "This erros represent only 1.0% of our data, so __we consider that deleting this data is highly acceptable and will only make us loose very little of the information.__"
   ]
  },
  {
   "cell_type": "code",
   "execution_count": 19,
   "metadata": {
    "scrolled": true
   },
   "outputs": [
    {
     "name": "stdout",
     "output_type": "stream",
     "text": [
      "['1978' '1987' '1979' '1976' '1965' '1985' '1968' '1999' '1967' '1969'\n",
      " '2001' '1966' '2003' '2002' '2004' '2006' '2005' '2010' '2007' '2008'\n",
      " '2009' '2011' '2012' '2013' '2014' '2015' '2016' '2017' '1977' '1983'\n",
      " '1986' '1984' '1973' '1981' '2000' '1982' '1988' '1997' '1998' '1971'\n",
      " '1955' '1956' '1957' '1958' '1974' '1972' '1975' '1992' '1991' '1989'\n",
      " '1990' '1993' '1994' '1996' '1995' '1959' '1962' '1961' '1960' '1963'\n",
      " '1964' '1980' '1950' '1953' '1954']\n"
     ]
    }
   ],
   "source": [
    "# dropping all remaining rows with pandas.DataFrame.drop\n",
    "sets.drop( sets[ sets.year.apply(lambda y : not validate_year(y)) ].index, inplace=True)\n",
    "print(sets['year'].unique())"
   ]
  },
  {
   "cell_type": "markdown",
   "metadata": {},
   "source": [
    "Finally, let's check out data one last time to see if we still ave any incorrect year remaining:"
   ]
  },
  {
   "cell_type": "code",
   "execution_count": 20,
   "metadata": {
    "scrolled": false
   },
   "outputs": [
    {
     "name": "stdout",
     "output_type": "stream",
     "text": [
      "\n",
      "Number of entries with an invalid year:    0\n"
     ]
    },
    {
     "data": {
      "image/png": "[encoded data removed]",
      "text/plain": [
       "<Figure size 432x288 with 1 Axes>"
      ]
     },
     "metadata": {},
     "output_type": "display_data"
    },
    {
     "data": {
      "text/plain": [
       "<matplotlib.axes._subplots.AxesSubplot at 0x10ae1b828>"
      ]
     },
     "execution_count": 20,
     "metadata": {},
     "output_type": "execute_result"
    },
    {
     "data": {
      "image/png": "[encoded data removed]",
      "text/plain": [
       "<Figure size 432x288 with 1 Axes>"
      ]
     },
     "metadata": {},
     "output_type": "display_data"
    }
   ],
   "source": [
    "n_not_valid = np.count_nonzero(sets['year'].apply(lambda x : validate_year(x)) == False)\n",
    "print(\"\\nNumber of entries with an invalid year:   \", n_not_valid)\n",
    "plt.pie([n_not_valid, n_total-n_not_valid], autopct='%1.1f%%', explode=(0.1, 0), labels=labels, colors=colors_graph)\n",
    "plt.axis('equal'); plt.show()\n",
    "sets[sets['year'].apply(lambda x : validate_year(x))]['year'].apply(lambda x : float(x)).hist(color = \"skyblue\")"
   ]
  },
  {
   "cell_type": "markdown",
   "metadata": {},
   "source": [
    "We don't have any more incorrect data, meaning that __all of our entries in 'year' can be converted to datatime format!__"
   ]
  },
  {
   "cell_type": "markdown",
   "metadata": {},
   "source": [
    "__step 2: cleaning ``inventory_parts: quantity``__"
   ]
  },
  {
   "cell_type": "markdown",
   "metadata": {},
   "source": [
    "Let's start by analyzing the data we have.\n",
    "\n",
    "This time, we are analyzing a quantity of parts included in a Lego set. We can assume that this number can be very large, but needs to be at least superior or equal to 1. Indeed, if a part belongs to a set, it wouldn't make sense for its quantity to be 0. Moreover, a quantity is by definition a positive number."
   ]
  },
  {
   "cell_type": "code",
   "execution_count": 21,
   "metadata": {},
   "outputs": [
    {
     "name": "stdout",
     "output_type": "stream",
     "text": [
      "Total number of entries:    580251\n",
      "Number of entries with an invalid year:    161796\n"
     ]
    }
   ],
   "source": [
    "n_total = len(inventory_parts['quantity'])\n",
    "print(\"Total number of entries:   \", n_total) \n",
    "\n",
    "n_not_valid = np.count_nonzero(inventory_parts['quantity'].apply(lambda x : x<1) == True)\n",
    "print(\"Number of entries with an invalid year:   \", n_not_valid) "
   ]
  },
  {
   "cell_type": "code",
   "execution_count": 22,
   "metadata": {
    "scrolled": false
   },
   "outputs": [
    {
     "data": {
      "image/png": "[encoded data removed]",
      "text/plain": [
       "<Figure size 432x288 with 1 Axes>"
      ]
     },
     "metadata": {},
     "output_type": "display_data"
    }
   ],
   "source": [
    "plt.pie([n_not_valid, n_total-n_not_valid], autopct='%1.1f%%', explode=(0.1, 0), labels=labels, colors=colors_graph)\n",
    "plt.axis('equal'); plt.show()"
   ]
  },
  {
   "cell_type": "markdown",
   "metadata": {},
   "source": [
    "We have a lot of invalid data!\n",
    "\n",
    "First let's see the repartition of the correct data:"
   ]
  },
  {
   "cell_type": "code",
   "execution_count": 23,
   "metadata": {
    "scrolled": true
   },
   "outputs": [
    {
     "name": "stdout",
     "output_type": "stream",
     "text": [
      "count    418455.000000\n",
      "mean          3.836938\n",
      "std           9.642451\n",
      "min           1.000000\n",
      "25%           1.000000\n",
      "50%           1.000000\n",
      "75%           4.000000\n",
      "max        1440.000000\n",
      "Name: quantity, dtype: float64\n"
     ]
    },
    {
     "data": {
      "image/png": "[encoded data removed]",
      "text/plain": [
       "<Figure size 432x288 with 1 Axes>"
      ]
     },
     "metadata": {},
     "output_type": "display_data"
    }
   ],
   "source": [
    "correct_quantities = inventory_parts[inventory_parts['quantity'].apply(lambda x : x>0)]['quantity'].apply(lambda x : float(x))\n",
    "print(correct_quantities.describe())\n",
    "correct_quantities.hist(color=\"skyblue\",bins=np.arange(20)); plt.show()"
   ]
  },
  {
   "cell_type": "markdown",
   "metadata": {},
   "source": [
    "Now let's take a look at the incorrect entries:"
   ]
  },
  {
   "cell_type": "code",
   "execution_count": 24,
   "metadata": {},
   "outputs": [
    {
     "data": {
      "text/plain": [
       "array([-inf])"
      ]
     },
     "execution_count": 24,
     "metadata": {},
     "output_type": "execute_result"
    }
   ],
   "source": [
    "inventory_parts[inventory_parts['quantity'].apply(lambda x : x<1) == True]['quantity'].unique()"
   ]
  },
  {
   "cell_type": "markdown",
   "metadata": {},
   "source": [
    "So it seems like __we only have one type of errors this time.__ Some quantities are set to \"-inf\"."
   ]
  },
  {
   "cell_type": "markdown",
   "metadata": {},
   "source": [
    "As we said earlier, we must have `quantity > 0` for it to be correct.\n",
    "\n",
    "Considering the important numbers of unset quantities, and using the Lego informations given by the repartition of the correct data telling us that there are a lot more unique pieces in a set, we make the following hypothesis: __Every piece which has a quantity of -inf is a unique piece and we will set it to 1.__"
   ]
  },
  {
   "cell_type": "code",
   "execution_count": 25,
   "metadata": {},
   "outputs": [],
   "source": [
    "# Replacing -inf with 1\n",
    "inventory_parts.loc[inventory_parts['quantity'] < 0, 'quantity'] = 1"
   ]
  },
  {
   "cell_type": "markdown",
   "metadata": {},
   "source": [
    "Let's check the results, and verify that there is no remaining errors in the quantities."
   ]
  },
  {
   "cell_type": "code",
   "execution_count": 26,
   "metadata": {},
   "outputs": [
    {
     "name": "stdout",
     "output_type": "stream",
     "text": [
      "count    580251.000000\n",
      "mean          3.045892\n",
      "std           8.286721\n",
      "min           1.000000\n",
      "25%           1.000000\n",
      "50%           1.000000\n",
      "75%           4.000000\n",
      "max        1440.000000\n",
      "Name: quantity, dtype: float64\n",
      "\n",
      "Number of entries with an invalid year:    0\n"
     ]
    },
    {
     "data": {
      "image/png": "[encoded data removed]",
      "text/plain": [
       "<Figure size 432x288 with 1 Axes>"
      ]
     },
     "metadata": {},
     "output_type": "display_data"
    }
   ],
   "source": [
    "print(inventory_parts['quantity'].describe())\n",
    "n_not_valid = np.count_nonzero(inventory_parts['quantity'].apply(lambda x : x<1) == True)\n",
    "print(\"\\nNumber of entries with an invalid year:   \", n_not_valid) \n",
    "plt.pie([n_not_valid, n_total-n_not_valid], autopct='%1.1f%%', explode=(0.1, 0), labels=labels, colors=colors_graph)\n",
    "plt.axis('equal'); plt.show()"
   ]
  },
  {
   "cell_type": "markdown",
   "metadata": {},
   "source": [
    "All of the quantities are correct! The dataset in now cleaned."
   ]
  },
  {
   "cell_type": "markdown",
   "metadata": {},
   "source": [
    "### 3. Querying phase\n",
    "Answer the following queries using the functionality of `Pandas`:\n",
    "\n",
    "1. List the ids of the inventories that belong to sets that contain cars. (*Hint: Find a smart way to distinguish which sets contain cars based on the sets' name*).\n",
    "* Plot the distribution of part categories as a (horizontal) bar chart. Restrict yourself to the 20 largest part categories (in terms of the number of parts belonging to the category).\n",
    "* Find the dominant color of each set. Then, plot using a (horizontal) bar chart, the number of sets per dominant color. Color each bar with the respective color that it represents.\n",
    "* Create a scatter plot of the *luminance*\\* of the sets vs their publishing year. What do you observe for the years 1980-1981? How do you interpret what you see?\n",
    "\n",
    "\\*The luminance of a color is a [measure of brightness](https://en.wikipedia.org/wiki/Luminance) which, given its RGB representation, can be computed as follows:\n",
    "\n",
    "$luminance = \\sqrt{0.299*R^2 + 0.587*G^2 + 0.114*B^2}$"
   ]
  },
  {
   "cell_type": "markdown",
   "metadata": {},
   "source": [
    "___\n",
    "\n",
    "__Question 3.1 : List the ids of the inventories that belong to sets that contain cars.__\n",
    "\n",
    "We can see that themes contains the names of all different lego themes. So after looking at some values, we highlight \n",
    "that some themes can be link to cars, such as 'Race' and 'Traffic'.\n",
    "\n",
    " - So first step, query theme ids that matches with a list = ['Race', 'Traffic']\n",
    " - Then sets dataFrame contains ids and theme_ids. So we query ids in sets that match with theme_id\n",
    " - Finally we get inventory id that match with previous sets ids."
   ]
  },
  {
   "cell_type": "code",
   "execution_count": 27,
   "metadata": {},
   "outputs": [
    {
     "name": "stdout",
     "output_type": "stream",
     "text": [
      "{16131, 8202, 528, 5904, 10515, 2836, 14493, 2849, 15010, 4643, 3755, 6066, 1716, 10043, 962, 1347, 13380, 14919, 9426, 7766, 15192, 14174, 1765, 8425, 3053, 7151, 3313, 10993, 10227, 8950, 14711, 8440, 9210, 14717}\n"
     ]
    }
   ],
   "source": [
    "# Word of car theme found in theme\n",
    "car_theme = ['Race', 'Traffic']\n",
    "\n",
    "# Query ids in theme link to car\n",
    "car_theme_id = themes['id'].loc[themes['name'].isin(car_theme)].values\n",
    "\n",
    "# Query ids in sets of id theme link to car\n",
    "sets_car_ids = sets['id'].loc[sets['theme_id'].isin(car_theme_id)].values\n",
    "\n",
    "inventoriy_contains_car_id = inventory_sets['inventory_id'].loc[inventory_sets['set_id'].isin(sets_car_ids)].values;\n",
    "print(set(inventoriy_contains_car_id))"
   ]
  },
  {
   "cell_type": "markdown",
   "metadata": {},
   "source": [
    "__Question 3.2 : Plot the distribution of part categories as a (horizontal) bar chart.__\n",
    "\n",
    "First we count all parts_cat_id in parts is a new list. \n",
    "\n",
    "Then we merge this list (which counts part_cat_id in parts) with part_categories to get the name, count and id of each part_cat_id.\n",
    "Then we sort the table descending and keep the 20 first that we display in a bar plot."
   ]
  },
  {
   "cell_type": "code",
   "execution_count": 28,
   "metadata": {},
   "outputs": [
    {
     "data": {
      "text/html": [
       "<div>\n",
       "<style scoped>\n",
       "    .dataframe tbody tr th:only-of-type {\n",
       "        vertical-align: middle;\n",
       "    }\n",
       "\n",
       "    .dataframe tbody tr th {\n",
       "        vertical-align: top;\n",
       "    }\n",
       "\n",
       "    .dataframe thead th {\n",
       "        text-align: right;\n",
       "    }\n",
       "</style>\n",
       "<table border=\"1\" class=\"dataframe\">\n",
       "  <thead>\n",
       "    <tr style=\"text-align: right;\">\n",
       "      <th></th>\n",
       "      <th>name</th>\n",
       "      <th>count</th>\n",
       "    </tr>\n",
       "    <tr>\n",
       "      <th>id</th>\n",
       "      <th></th>\n",
       "      <th></th>\n",
       "    </tr>\n",
       "  </thead>\n",
       "  <tbody>\n",
       "    <tr>\n",
       "      <th>13</th>\n",
       "      <td>Minifigs</td>\n",
       "      <td>8556</td>\n",
       "    </tr>\n",
       "    <tr>\n",
       "      <th>27</th>\n",
       "      <td>Minifig Accessories</td>\n",
       "      <td>2071</td>\n",
       "    </tr>\n",
       "    <tr>\n",
       "      <th>17</th>\n",
       "      <td>Non-LEGO</td>\n",
       "      <td>1964</td>\n",
       "    </tr>\n",
       "    <tr>\n",
       "      <th>4</th>\n",
       "      <td>Duplo, Quatro and Primo</td>\n",
       "      <td>1552</td>\n",
       "    </tr>\n",
       "    <tr>\n",
       "      <th>10</th>\n",
       "      <td>Tiles Printed</td>\n",
       "      <td>1191</td>\n",
       "    </tr>\n",
       "    <tr>\n",
       "      <th>24</th>\n",
       "      <td>Other</td>\n",
       "      <td>1125</td>\n",
       "    </tr>\n",
       "    <tr>\n",
       "      <th>41</th>\n",
       "      <td>Bionicle, Hero Factory and Constraction</td>\n",
       "      <td>1116</td>\n",
       "    </tr>\n",
       "    <tr>\n",
       "      <th>2</th>\n",
       "      <td>Bricks Printed</td>\n",
       "      <td>744</td>\n",
       "    </tr>\n",
       "    <tr>\n",
       "      <th>28</th>\n",
       "      <td>Plants and Animals</td>\n",
       "      <td>742</td>\n",
       "    </tr>\n",
       "    <tr>\n",
       "      <th>45</th>\n",
       "      <td>Power Functions, Mindstorms and Electric</td>\n",
       "      <td>462</td>\n",
       "    </tr>\n",
       "    <tr>\n",
       "      <th>38</th>\n",
       "      <td>Flags, Signs, Plastics and Cloth</td>\n",
       "      <td>428</td>\n",
       "    </tr>\n",
       "    <tr>\n",
       "      <th>3</th>\n",
       "      <td>Bricks Sloped</td>\n",
       "      <td>410</td>\n",
       "    </tr>\n",
       "    <tr>\n",
       "      <th>36</th>\n",
       "      <td>Transportation - Land</td>\n",
       "      <td>409</td>\n",
       "    </tr>\n",
       "    <tr>\n",
       "      <th>16</th>\n",
       "      <td>Windows and Doors</td>\n",
       "      <td>405</td>\n",
       "    </tr>\n",
       "    <tr>\n",
       "      <th>48</th>\n",
       "      <td>Clikits</td>\n",
       "      <td>278</td>\n",
       "    </tr>\n",
       "    <tr>\n",
       "      <th>37</th>\n",
       "      <td>Bricks Curved</td>\n",
       "      <td>275</td>\n",
       "    </tr>\n",
       "    <tr>\n",
       "      <th>29</th>\n",
       "      <td>Wheels and Tyres</td>\n",
       "      <td>270</td>\n",
       "    </tr>\n",
       "    <tr>\n",
       "      <th>47</th>\n",
       "      <td>Windscreens and Fuselage</td>\n",
       "      <td>268</td>\n",
       "    </tr>\n",
       "    <tr>\n",
       "      <th>1</th>\n",
       "      <td>Baseplates</td>\n",
       "      <td>250</td>\n",
       "    </tr>\n",
       "    <tr>\n",
       "      <th>42</th>\n",
       "      <td>Belville, Scala and Fabuland</td>\n",
       "      <td>234</td>\n",
       "    </tr>\n",
       "  </tbody>\n",
       "</table>\n",
       "</div>"
      ],
      "text/plain": [
       "                                        name  count\n",
       "id                                                 \n",
       "13                                  Minifigs   8556\n",
       "27                       Minifig Accessories   2071\n",
       "17                                  Non-LEGO   1964\n",
       "4                    Duplo, Quatro and Primo   1552\n",
       "10                             Tiles Printed   1191\n",
       "24                                     Other   1125\n",
       "41   Bionicle, Hero Factory and Constraction   1116\n",
       "2                             Bricks Printed    744\n",
       "28                        Plants and Animals    742\n",
       "45  Power Functions, Mindstorms and Electric    462\n",
       "38          Flags, Signs, Plastics and Cloth    428\n",
       "3                              Bricks Sloped    410\n",
       "36                     Transportation - Land    409\n",
       "16                         Windows and Doors    405\n",
       "48                                   Clikits    278\n",
       "37                             Bricks Curved    275\n",
       "29                          Wheels and Tyres    270\n",
       "47                  Windscreens and Fuselage    268\n",
       "1                                 Baseplates    250\n",
       "42              Belville, Scala and Fabuland    234"
      ]
     },
     "execution_count": 28,
     "metadata": {},
     "output_type": "execute_result"
    },
    {
     "data": {
      "image/png": "[encoded data removed]",
      "text/plain": [
       "<Figure size 1080x360 with 1 Axes>"
      ]
     },
     "metadata": {},
     "output_type": "display_data"
    }
   ],
   "source": [
    "# Couunt all part_cat_id in parts\n",
    "distribution = parts.groupby(['part_cat_id']).count();\n",
    "\n",
    "part_cat_id = part_categories.set_index('id');\n",
    "\n",
    "# Merge part_cat_id with their respective names based on ids\n",
    "distribution_part = pd.merge(part_cat_id, distribution, left_index=True, right_index=True);\n",
    "distribution_part = distribution_part.drop(columns='name_y');\n",
    "\n",
    "# Change column names\n",
    "distribution_part = distribution_part.rename(columns={'name_x': 'name', 'id': 'count'})\n",
    "\n",
    "# Sort descending values of count\n",
    "distribution_part = distribution_part.sort_values('count',ascending=False);\n",
    "# Keep the 20 first values\n",
    "distribution_part = distribution_part.head(20)\n",
    "\n",
    "bar_plot = distribution_part.plot.bar(rot=90, color=colors_graph[1],figsize=fig_size)\n",
    "bar_plot.set_ylabel(\"Quantity\");\n",
    "bar_plot.set_xlabel(\"Part categories IDs\");\n",
    "\n",
    "distribution_part"
   ]
  },
  {
   "cell_type": "markdown",
   "metadata": {},
   "source": [
    "__Question 3.3 : Find the dominant color of each set__\n",
    "\n",
    "To find the dominant color of a set, we must:\n",
    "- select each set\n",
    "- find every inventories belonging to it\n",
    "- get every parts in those inventories and their quantities\n",
    "- finally we can compute which part color is the most dominant in the set.\n"
   ]
  },
  {
   "cell_type": "code",
   "execution_count": 29,
   "metadata": {},
   "outputs": [],
   "source": [
    "from collections import Counter\n",
    "\n",
    "# Find most common element in a list lst (found online)\n",
    "def most_common(lst):\n",
    "    return max(lst, key=Counter(lst).get)"
   ]
  },
  {
   "cell_type": "code",
   "execution_count": 30,
   "metadata": {},
   "outputs": [
    {
     "data": {
      "image/png": "[encoded data removed]",
      "text/plain": [
       "<Figure size 1080x360 with 1 Axes>"
      ]
     },
     "metadata": {},
     "output_type": "display_data"
    }
   ],
   "source": [
    "# inventory_id values in inventory_set\n",
    "inventory_sets_inventory_id = set(inventory_sets.inventory_id.values)\n",
    "\n",
    "# groupby with agg allow to groupby a column using the operation provided (Function to use for aggregating the data)\n",
    "# to_frame : convert serie to dataFrame\n",
    "inventory_part_color = inventory_parts.groupby('inventory_id').color_id.agg(most_common).to_frame().reset_index()\n",
    "\n",
    "inventory_set_color = inventory_sets.groupby('set_id').inventory_id.agg(most_common).to_frame().reset_index()\n",
    "\n",
    "\n",
    "# Match color_id with set_id\n",
    "color_set = inventory_part_color[['inventory_id','color_id']].\\\n",
    "            merge(inventory_set_color[['inventory_id','set_id']])#, left_on='inventory_id', right_on='inventory_id')\n",
    "\n",
    "color_set = color_set.merge(colors,how='left', left_on='color_id', right_on='id')\n",
    "\n",
    "\n",
    "\n",
    "dominant_color_set = color_set.groupby('name').agg({'set_id': 'count', 'rgb': 'max'})\n",
    "\n",
    "color_bar = dominant_color_set.plot.bar(rot=90, legend=False,\n",
    "                                        color=[['#' + rgb for rgb in dominant_color_set['rgb'].values]],\n",
    "                                        edgecolor = 'black',\n",
    "                                       figsize=fig_size);\n",
    "color_bar.set_ylabel = ('Set number');\n",
    "color_bar.set_xlabel = ('Colors');"
   ]
  },
  {
   "cell_type": "markdown",
   "metadata": {},
   "source": [
    "__Question 3.4 : Create a scatter plot of the *luminance*\\* of the sets vs their publishing year.__\n",
    "\n"
   ]
  },
  {
   "cell_type": "code",
   "execution_count": 31,
   "metadata": {},
   "outputs": [],
   "source": [
    "# Compute luminance\n",
    "def rgb_Luminance(rgb):\n",
    "    # Converting HEX to RGB (find on stackoverflow)\n",
    "    rgb = tuple(float(int(rgb[i:i+2], 16))/255 for i in (0, 2 ,4));\n",
    "    \n",
    "    # Then return luminance\n",
    "    return np.sqrt(0.299*rgb[0]*rgb[0] + 0.587*rgb[1]*rgb[1] + 0.114*rgb[2]*rgb[2]);"
   ]
  },
  {
   "cell_type": "code",
   "execution_count": 32,
   "metadata": {},
   "outputs": [
    {
     "data": {
      "image/png": "[encoded data removed]",
      "text/plain": [
       "<Figure size 1080x360 with 1 Axes>"
      ]
     },
     "metadata": {},
     "output_type": "display_data"
    }
   ],
   "source": [
    "# Match inventory_id with color_id and set_id\n",
    "inventory = inventory_parts[['inventory_id', 'color_id']].\\\n",
    "            merge(inventory_sets[['inventory_id', 'set_id']], \n",
    "                  left_on='inventory_id', right_on='inventory_id', how='outer')\n",
    "\n",
    "\n",
    "# Complement every set_id with the corresponding year\n",
    "inventory = inventory.merge(sets[['id', 'year']], \n",
    "                            left_on='set_id', right_on='id', how='outer')\n",
    "\n",
    "\n",
    "# Complement every color_id with the corresponding rgb value\n",
    "inventory = inventory.merge(colors[['id', 'rgb']], \n",
    "                            left_on='color_id', right_on='id', how='outer')\n",
    "# Remove missing values\n",
    "inventory = inventory.dropna()\n",
    "\n",
    "# Compute luminance for every part in the inventor\n",
    "inventory['luminance'] = inventory['rgb'].apply(lambda x : rgb_Luminance(x))\n",
    "\n",
    "\n",
    "inventory['year'] = inventory['year'].astype(str).astype(int)\n",
    "# Plot the scatter diagram\n",
    "plot_luminance = inventory.plot.scatter(x='year',y='luminance', color=colors_graph[1], figsize=fig_size)\n",
    "#plt.show\n",
    "\n",
    "#inventory['year']"
   ]
  },
  {
   "cell_type": "markdown",
   "metadata": {},
   "source": [
    "__What do you observe for the years 1980-1981?__"
   ]
  },
  {
   "cell_type": "markdown",
   "metadata": {},
   "source": [
    "We can see that for the years 1980-1981, there is a huge number of different values for the lumincance.\n",
    "It contrast a lot form the others data we have!"
   ]
  },
  {
   "cell_type": "markdown",
   "metadata": {},
   "source": [
    "__How do you interpret what you see?__"
   ]
  },
  {
   "cell_type": "markdown",
   "metadata": {},
   "source": [
    "The data we have for this particular years appear like an outlier in our visualization. Something's clearly not right.\n",
    "\n",
    "To understand a bit more what is going on, let's visualize some more info abour our data:"
   ]
  },
  {
   "cell_type": "markdown",
   "metadata": {},
   "source": [
    "Numbers of sets per year:"
   ]
  },
  {
   "cell_type": "code",
   "execution_count": 33,
   "metadata": {
    "scrolled": true
   },
   "outputs": [
    {
     "data": {
      "text/plain": [
       "<matplotlib.axes._subplots.AxesSubplot at 0x1098f9d30>"
      ]
     },
     "execution_count": 33,
     "metadata": {},
     "output_type": "execute_result"
    },
    {
     "data": {
      "image/png": "[encoded data removed]",
      "text/plain": [
       "<Figure size 1080x360 with 1 Axes>"
      ]
     },
     "metadata": {},
     "output_type": "display_data"
    }
   ],
   "source": [
    "min_year = inventory['year'].min()\n",
    "max_year = inventory['year'].max()\n",
    "inventory['year'].value_counts(bins=range(min_year,max_year)).sort_index().plot(kind=\"bar\",figsize=fig_size)"
   ]
  },
  {
   "cell_type": "markdown",
   "metadata": {},
   "source": [
    "Visualizing the numbers of inventories per year that are stored in our data set, we see that we simply have a lot more data on these particular years than any other around it!\n",
    "\n",
    "This tells us that it would be wrong to simply conclude that people were fans of very bright colours during this short period of time... Actually, we simply have more data, and thus potentially more parts with bright colors.\n",
    "\n",
    "The work that could be worth doing would be to understand why we have so much data for these years and so little around them. Unfortunately, data alone are not relevant for such an interpretation, for example, one should investigate on how the data were collected to understand this gap.\n",
    "\n",
    "We could make a wild guess and imagine that a lot of data from the years 1980-1981 actually correspond to previous years, but that they were added to the database incorrectly."
   ]
  }
 ],
 "metadata": {
  "kernelspec": {
   "display_name": "Python 3",
   "language": "python",
   "name": "python3"
  },
  "language_info": {
   "codemirror_mode": {
    "name": "ipython",
    "version": 3
   },
   "file_extension": ".py",
   "mimetype": "text/x-python",
   "name": "python",
   "nbconvert_exporter": "python",
   "pygments_lexer": "ipython3",
   "version": "3.6.5"
  }
 },
 "nbformat": 4,
 "nbformat_minor": 2
}
